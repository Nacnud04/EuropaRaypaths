{
 "cells": [
  {
   "cell_type": "markdown",
   "id": "49d24f22-32c2-4bbd-9fb7-ef35523f5cac",
   "metadata": {},
   "source": [
    "# Test different facet sizes and see how they compare"
   ]
  },
  {
   "cell_type": "code",
   "execution_count": 1,
   "id": "ecc3e5dc-cffd-4b54-84de-a271c0584884",
   "metadata": {},
   "outputs": [],
   "source": [
    "import sys\n",
    "sys.path.append(\"../\")\n",
    "\n",
    "from surface import *\n",
    "from source import *\n",
    "from model import *\n",
    "\n",
    "import numpy as np\n",
    "from time import time as Time"
   ]
  },
  {
   "cell_type": "markdown",
   "id": "abc8767b-71e2-4631-a82e-7845c2904400",
   "metadata": {},
   "source": [
    "## Define Surfaces"
   ]
  },
  {
   "cell_type": "code",
   "execution_count": 2,
   "id": "04894c71-c7a1-4c1e-b315-a536de6bc15a",
   "metadata": {},
   "outputs": [],
   "source": [
    "# tuple with facet sizes\n",
    "fss = (25, 50, 100, 150, 200, 300, 500)\n",
    "\n",
    "# do not overlap facets at all\n",
    "overlap = 0 # percentage for facets to overlap\n",
    "\n",
    "# compute dimensions based on facet size\n",
    "ftprnt_size = 10000 # footprint width [m]\n",
    "dimss = [(int(ftprnt_size/fs),int(ftprnt_size/fs)) for fs in fss]\n",
    "\n",
    "# origin\n",
    "origin = (0, 0)"
   ]
  },
  {
   "cell_type": "code",
   "execution_count": 3,
   "id": "db3c30fc-5797-4d94-af91-c5e50a55acda",
   "metadata": {},
   "outputs": [],
   "source": [
    "# generate a list of surfaces to call\n",
    "surfs = [Surface(origin=origin, dims=d, fs=fs, overlap=overlap) for d, fs in zip(dimss, fss)]\n",
    "for s in surfs:\n",
    "    s.gen_flat(0)"
   ]
  },
  {
   "cell_type": "markdown",
   "id": "50ffcfff-3365-49a5-9a10-771cdad912ac",
   "metadata": {},
   "source": [
    "## Generate Orbit/Sources"
   ]
  },
  {
   "cell_type": "code",
   "execution_count": 4,
   "id": "1cf32ac5-1f2b-465c-95a7-a8b0f501625c",
   "metadata": {},
   "outputs": [],
   "source": [
    "f0  = 9e6             # center frequency [Hz]\n",
    "dt  = 1 / (8 * f0)    # time delta to avoid aliasing [s]\n",
    "dur = 0.5e-6          # how long to make source chirp [s]\n",
    "sy  = 5050            # source y [m]\n",
    "sz  = 25000           # source z [m] - this is like orbital altitude\n",
    "\n",
    "# source list\n",
    "ss = []\n",
    "# how many sources to place in transit?\n",
    "n = 100 \n",
    "for x in np.linspace(0, 10000, n):\n",
    "    source = Source(dt, dur, (x, sy, sz))\n",
    "    source.chirp(f0, 1e6)\n",
    "    ss.append(source)"
   ]
  },
  {
   "cell_type": "code",
   "execution_count": 5,
   "id": "cd1215ac-fab4-43a4-b814-dbf4a0924d2c",
   "metadata": {},
   "outputs": [],
   "source": [
    "## Point target location\n",
    "tx = 5000 # target x [m]\n",
    "ty = 5050 # target y [m]\n",
    "tz = -385 # target z [m]"
   ]
  },
  {
   "cell_type": "markdown",
   "id": "569bb0ce-e775-408b-b27b-54fd94978454",
   "metadata": {},
   "source": [
    "## Define tx/rx window"
   ]
  },
  {
   "cell_type": "code",
   "execution_count": 6,
   "id": "4f6a06b0-369b-4d78-b008-182896b3f635",
   "metadata": {},
   "outputs": [],
   "source": [
    "start = 166.8e-6 # [s]\n",
    "end   = 177e-6   # [s]\n",
    "# how many time samples?\n",
    "nt = int((end-start)/dt)\n",
    "# gen time axis\n",
    "ts = np.linspace(start, end, nt)"
   ]
  },
  {
   "cell_type": "markdown",
   "id": "2ee43b18-35b8-4b99-84e3-a8a06a8dcae9",
   "metadata": {},
   "source": [
    "## Simulate"
   ]
  },
  {
   "cell_type": "code",
   "execution_count": null,
   "id": "ed3c8827-f7d0-40da-9e19-279486cd8ea2",
   "metadata": {},
   "outputs": [
    {
     "name": "stdout",
     "output_type": "stream",
     "text": [
      "Simulating at facet size: 025 m | dims: 400x400\n",
      "Simulating: 18/100 (18.0%)     \r"
     ]
    }
   ],
   "source": [
    "# do not simulate surface reflection\n",
    "reflect = False\n",
    "# output array to house radar images\n",
    "rdrgrms = []\n",
    "# system start time\n",
    "st = Time()\n",
    "\n",
    "# iterate through facet sizes\n",
    "for i, surf in enumerate(surfs):\n",
    "\n",
    "    # clock\n",
    "    st_fs = Time()\n",
    "\n",
    "    # generate empty array to fill\n",
    "    rdrgrm = np.zeros((nt, n), np.complex128)\n",
    "\n",
    "    # simulate\n",
    "    print(f\"Simulating at facet size: {fss[i]:03d} m | dims: {dimss[i][0]:03d}x{dimss[i][0]:03d}\")\n",
    "\n",
    "    # iterate through sources in transit\n",
    "    for j, s in enumerate(ss):\n",
    "        print(f\"Simulating: {j+1}/{len(ss)} ({round(100*((j+1)/len(ss)), 1)}%)\", end=\"     \\r\")\n",
    "        model = Model(surf, s, reflect=reflect)\n",
    "        model.set_target((tx, ty, tz))\n",
    "        model.gen_raypaths()\n",
    "        model.comp_dopplers()\n",
    "        model.gen_timeseries(show=False)\n",
    "        rdrgrm[:,i] += np.interp(ts, model.ts, np.real(model.signal))\n",
    "        rdrgrm[:,i] += 1j * np.interp(ts, model.ts, np.imag(model.signal))\n",
    "        \n",
    "    print(f\"\\nProcessing time for fs of {fss[i]:03d} m : {round((Time() - st_fs)/60)} minutes and {round((Time() - st_fs) % 60,2)} seconds\")\n",
    "\n",
    "    # add to radargram list\n",
    "    rdrgrms.append(rdrgrm)\n",
    "\n",
    "print(f\"\\n\\nTotal processing time: {round((Time() - st)/60)} minutes and {round((Time() - st) % 60,2)} seconds\")"
   ]
  },
  {
   "cell_type": "code",
   "execution_count": null,
   "id": "e68eee2a-bf27-40b0-a89f-7ab262410470",
   "metadata": {},
   "outputs": [],
   "source": [
    "# export the radar data\n",
    "np.save(\"variable_fs.npz\""
   ]
  }
 ],
 "metadata": {
  "kernelspec": {
   "display_name": "Python 3 (ipykernel)",
   "language": "python",
   "name": "python3"
  },
  "language_info": {
   "codemirror_mode": {
    "name": "ipython",
    "version": 3
   },
   "file_extension": ".py",
   "mimetype": "text/x-python",
   "name": "python",
   "nbconvert_exporter": "python",
   "pygments_lexer": "ipython3",
   "version": "3.11.9"
  }
 },
 "nbformat": 4,
 "nbformat_minor": 5
}
