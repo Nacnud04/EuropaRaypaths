{
 "cells": [
  {
   "cell_type": "markdown",
   "id": "49d24f22-32c2-4bbd-9fb7-ef35523f5cac",
   "metadata": {},
   "source": [
    "# Test different facet sizes and see how they compare"
   ]
  },
  {
   "cell_type": "code",
   "execution_count": 1,
   "id": "ecc3e5dc-cffd-4b54-84de-a271c0584884",
   "metadata": {},
   "outputs": [],
   "source": [
    "import sys\n",
    "sys.path.append(\"../\")\n",
    "\n",
    "from surface import *\n",
    "from source import *\n",
    "from model import *\n",
    "\n",
    "import numpy as np\n",
    "from time import time as Time"
   ]
  },
  {
   "cell_type": "markdown",
   "id": "abc8767b-71e2-4631-a82e-7845c2904400",
   "metadata": {},
   "source": [
    "## Define Surfaces"
   ]
  },
  {
   "cell_type": "code",
   "execution_count": 2,
   "id": "04894c71-c7a1-4c1e-b315-a536de6bc15a",
   "metadata": {},
   "outputs": [],
   "source": [
    "# tuple with facet sizes\n",
    "fss = (20, 10, 5, 3, 2)\n",
    "\n",
    "# do not overlap facets at all\n",
    "overlap = 0 # percentage for facets to overlap\n",
    "\n",
    "# compute dimensions based on facet size\n",
    "ftprnt_size = 2000 # footprint width [m]\n",
    "dimss = [(int(ftprnt_size/fs),int(ftprnt_size/fs)) for fs in fss]\n",
    "\n",
    "# origin\n",
    "origin = (4000, 4000)"
   ]
  },
  {
   "cell_type": "code",
   "execution_count": 3,
   "id": "db3c30fc-5797-4d94-af91-c5e50a55acda",
   "metadata": {},
   "outputs": [],
   "source": [
    "# generate a list of surfaces to call\n",
    "surfs = [Surface(origin=origin, dims=d, fs=fs, overlap=overlap) for d, fs in zip(dimss, fss)]\n",
    "for s in surfs:\n",
    "    s.gen_flat(0)"
   ]
  },
  {
   "cell_type": "markdown",
   "id": "50ffcfff-3365-49a5-9a10-771cdad912ac",
   "metadata": {},
   "source": [
    "## Generate Orbit/Sources"
   ]
  },
  {
   "cell_type": "code",
   "execution_count": 4,
   "id": "1cf32ac5-1f2b-465c-95a7-a8b0f501625c",
   "metadata": {},
   "outputs": [],
   "source": [
    "f0  = 9e6             # center frequency [Hz]\n",
    "dt  = 1 / (8 * f0)    # time delta to avoid aliasing [s]\n",
    "dur = 0.5e-6          # how long to make source chirp [s]\n",
    "sy  = 5050            # source y [m]\n",
    "sz  = 25000           # source z [m] - this is like orbital altitude\n",
    "\n",
    "# source list\n",
    "ss = []\n",
    "# how many sources to place in transit?\n",
    "n = 100 \n",
    "for x in np.linspace(0, 10000, n):\n",
    "    source = Source(dt, dur, (x, sy, sz))\n",
    "    source.chirp(f0, 1e6)\n",
    "    ss.append(source)"
   ]
  },
  {
   "cell_type": "code",
   "execution_count": 5,
   "id": "cd1215ac-fab4-43a4-b814-dbf4a0924d2c",
   "metadata": {},
   "outputs": [],
   "source": [
    "## Point target location\n",
    "tx = 5000 # target x [m]\n",
    "ty = 5050 # target y [m]\n",
    "tz = -385 # target z [m]"
   ]
  },
  {
   "cell_type": "markdown",
   "id": "569bb0ce-e775-408b-b27b-54fd94978454",
   "metadata": {},
   "source": [
    "## Define tx/rx window"
   ]
  },
  {
   "cell_type": "code",
   "execution_count": 6,
   "id": "4f6a06b0-369b-4d78-b008-182896b3f635",
   "metadata": {},
   "outputs": [],
   "source": [
    "start = 166.8e-6 # [s]\n",
    "end   = 177e-6   # [s]\n",
    "# how many time samples?\n",
    "nt = int((end-start)/dt)\n",
    "# gen time axis\n",
    "ts = np.linspace(start, end, nt)"
   ]
  },
  {
   "cell_type": "markdown",
   "id": "2ee43b18-35b8-4b99-84e3-a8a06a8dcae9",
   "metadata": {},
   "source": [
    "## Simulate"
   ]
  },
  {
   "cell_type": "code",
   "execution_count": 8,
   "id": "d0317e1c-22c3-4b52-b6c2-901b6f6f0335",
   "metadata": {},
   "outputs": [],
   "source": [
    "from concurrent.futures import ThreadPoolExecutor, as_completed"
   ]
  },
  {
   "cell_type": "code",
   "execution_count": 9,
   "id": "ed3c8827-f7d0-40da-9e19-279486cd8ea2",
   "metadata": {},
   "outputs": [
    {
     "data": {
      "text/plain": [
       "'\\n# do not simulate surface reflection\\nreflect = False\\n# output array to house radar images\\nrdrgrms = []\\n# for focusing\\npathtimes = []\\n# system start time\\nst = Time()\\n\\n# iterate through facet sizes\\nfor i, surf in enumerate(surfs):\\n\\n    # clock\\n    st_fs = Time()\\n\\n    # generate empty array to fill\\n    rdrgrm = np.zeros((nt, n), np.complex128)\\n\\n    # array which contains pathtimes to target for focusing\\n    pathtime = []\\n\\n    # simulate\\n    print(f\"Simulating at facet size: {fss[i]:03d} m | dims: {dimss[i][0]:03d}x{dimss[i][0]:03d}\")\\n\\n    # iterate through sources in transit\\n    for j, s in enumerate(ss):\\n        print(f\"Simulating: {j+1}/{len(ss)} ({round(100*((j+1)/len(ss)), 1)}%)\", end=\"     \\r\")\\n        model = Model(surf, s, reflect=reflect)\\n        model.set_target((tx, ty, tz))\\n        model.gen_raypaths()\\n        model.comp_dopplers()\\n        model.gen_timeseries(show=False)\\n        rdrgrm[:,j] += np.interp(ts, model.ts, np.real(model.signal))\\n        rdrgrm[:,j] += 1j * np.interp(ts, model.ts, np.imag(model.signal))\\n        # center facet index\\n        cid = len(model.raypaths) // 2\\n        # append travel time to pathtimes\\n        pathtime.append(model.raypaths[cid].path_time)\\n        \\n    print(f\"\\nProcessing time for fs of {fss[i]:03d} m : {round((Time() - st_fs)/60)} minutes and {round((Time() - st_fs) % 60,2)} seconds\")\\n\\n    # add to radargram list\\n    rdrgrms.append(rdrgrm)\\n    # add pathtimes\\n    pathtimes.append(pathtime)\\n\\nprint(f\"\\n\\nTotal processing time: {round((Time() - st)/60)} minutes and {round((Time() - st) % 60,2)} seconds\")\\n'"
      ]
     },
     "execution_count": 9,
     "metadata": {},
     "output_type": "execute_result"
    }
   ],
   "source": [
    "\"\"\"\n",
    "# do not simulate surface reflection\n",
    "reflect = False\n",
    "# output array to house radar images\n",
    "rdrgrms = []\n",
    "# for focusing\n",
    "pathtimes = []\n",
    "# system start time\n",
    "st = Time()\n",
    "\n",
    "# iterate through facet sizes\n",
    "for i, surf in enumerate(surfs):\n",
    "\n",
    "    # clock\n",
    "    st_fs = Time()\n",
    "\n",
    "    # generate empty array to fill\n",
    "    rdrgrm = np.zeros((nt, n), np.complex128)\n",
    "\n",
    "    # array which contains pathtimes to target for focusing\n",
    "    pathtime = []\n",
    "\n",
    "    # simulate\n",
    "    print(f\"Simulating at facet size: {fss[i]:03d} m | dims: {dimss[i][0]:03d}x{dimss[i][0]:03d}\")\n",
    "\n",
    "    # iterate through sources in transit\n",
    "    for j, s in enumerate(ss):\n",
    "        print(f\"Simulating: {j+1}/{len(ss)} ({round(100*((j+1)/len(ss)), 1)}%)\", end=\"     \\r\")\n",
    "        model = Model(surf, s, reflect=reflect)\n",
    "        model.set_target((tx, ty, tz))\n",
    "        model.gen_raypaths()\n",
    "        model.comp_dopplers()\n",
    "        model.gen_timeseries(show=False)\n",
    "        rdrgrm[:,j] += np.interp(ts, model.ts, np.real(model.signal))\n",
    "        rdrgrm[:,j] += 1j * np.interp(ts, model.ts, np.imag(model.signal))\n",
    "        # center facet index\n",
    "        cid = len(model.raypaths) // 2\n",
    "        # append travel time to pathtimes\n",
    "        pathtime.append(model.raypaths[cid].path_time)\n",
    "        \n",
    "    print(f\"\\nProcessing time for fs of {fss[i]:03d} m : {round((Time() - st_fs)/60)} minutes and {round((Time() - st_fs) % 60,2)} seconds\")\n",
    "\n",
    "    # add to radargram list\n",
    "    rdrgrms.append(rdrgrm)\n",
    "    # add pathtimes\n",
    "    pathtimes.append(pathtime)\n",
    "\n",
    "print(f\"\\n\\nTotal processing time: {round((Time() - st)/60)} minutes and {round((Time() - st) % 60,2)} seconds\")\n",
    "\"\"\""
   ]
  },
  {
   "cell_type": "code",
   "execution_count": null,
   "id": "da38a831-9f40-4f11-9ff0-f52d592d48d8",
   "metadata": {},
   "outputs": [
    {
     "name": "stdout",
     "output_type": "stream",
     "text": [
      "Simulating at facet size: 020 m | dims: 100x100\n",
      "Simulating: 100/100 (100.0%)     \n",
      "Processing time for fs of 020 m : 3 minutes and 9.46 seconds\n",
      "Simulating at facet size: 010 m | dims: 200x200\n",
      "Simulating: 100/100 (100.0%)     \n",
      "Processing time for fs of 010 m : 13 minutes and 36.06 seconds\n",
      "Simulating at facet size: 005 m | dims: 400x400\n",
      "Simulating: 98/100 (98.0%)        \n",
      "Processing time for fs of 005 m : 51 minutes and 54.98 seconds\n",
      "Simulating at facet size: 003 m | dims: 666x666\n",
      "Simulating: 98/100 (98.0%)                                 \n",
      "Processing time for fs of 003 m : 141 minutes and 17.95 seconds\n",
      "Simulating at facet size: 002 m | dims: 1000x1000\n",
      "Simulating: 15/100 (15.0%)     \r"
     ]
    }
   ],
   "source": [
    "# do not simulate surface reflection\n",
    "reflect = False\n",
    "# output array to house radar images\n",
    "rdrgrms = []\n",
    "# for focusing\n",
    "pathtimes = []\n",
    "# system start time\n",
    "st = Time()\n",
    "\n",
    "# iterate through facet sizes\n",
    "for i, surf in enumerate(surfs):\n",
    "\n",
    "    # clock\n",
    "    st_fs = Time()\n",
    "\n",
    "    # generate empty array to fill\n",
    "    rdrgrm = np.zeros((nt, n), np.complex128)\n",
    "\n",
    "    # Preallocate path time list with None placeholders\n",
    "    pathtime = [None] * len(ss)\n",
    "\n",
    "    # simulate\n",
    "    print(f\"Simulating at facet size: {fss[i]:03d} m | dims: {dimss[i][0]:03d}x{dimss[i][0]:03d}\")\n",
    "\n",
    "    def process_source(j, s):\n",
    "        model = Model(surf, s, reflect=reflect)\n",
    "        model.set_target((tx, ty, tz))\n",
    "        model.gen_raypaths()\n",
    "        model.comp_dopplers()\n",
    "        model.gen_timeseries(show=False)\n",
    "        signal_real = np.interp(ts, model.ts, np.real(model.signal))\n",
    "        signal_imag = np.interp(ts, model.ts, np.imag(model.signal))\n",
    "        # center facet index\n",
    "        cid = len(model.raypaths) // 2\n",
    "        path_time = model.raypaths[cid].path_time\n",
    "        return j, signal_real, signal_imag, path_time\n",
    "\n",
    "    # Multithreading processing\n",
    "    with ThreadPoolExecutor() as executor:\n",
    "        futures = {executor.submit(process_source, j, s): j for j, s in enumerate(ss)}\n",
    "        for future in as_completed(futures):\n",
    "            j, signal_real, signal_imag, path_time = future.result()\n",
    "            rdrgrm[:, j] = signal_real + 1j * signal_imag  # Direct assignment to ensure order\n",
    "            pathtime[j] = path_time  # Store in correct order\n",
    "            print(f\"Simulating: {j+1}/{len(ss)} ({round(100*((j+1)/len(ss)), 1)}%)\", end=\"     \\r\")\n",
    "\n",
    "    print(f\"\\nProcessing time for fs of {fss[i]:03d} m : {round((Time() - st_fs)/60)} minutes and {round((Time() - st_fs) % 60,2)} seconds\")\n",
    "\n",
    "    # add to radargram list\n",
    "    rdrgrms.append(rdrgrm)\n",
    "    # add pathtimes\n",
    "    pathtimes.append(pathtime)\n",
    "\n",
    "print(f\"\\n\\nTotal processing time: {round((Time() - st)/60)} minutes and {round((Time() - st) % 60,2)} seconds\")"
   ]
  },
  {
   "cell_type": "code",
   "execution_count": null,
   "id": "e68eee2a-bf27-40b0-a89f-7ab262410470",
   "metadata": {},
   "outputs": [],
   "source": [
    "# export the radar data\n",
    "np.save(\"variable_fs\", np.array(rdrgrms))"
   ]
  },
  {
   "cell_type": "markdown",
   "id": "f1c084d8-5bfb-4f0e-b0c8-8be760915b65",
   "metadata": {},
   "source": [
    "## View and focus each"
   ]
  },
  {
   "cell_type": "code",
   "execution_count": null,
   "id": "a12de754-88e7-4903-9983-d6f60626abd1",
   "metadata": {},
   "outputs": [],
   "source": [
    "for i, p in enumerate(pathtimes):\n",
    "    plt.plot(range(100), p, label=fss[i])\n",
    "plt.show()"
   ]
  },
  {
   "cell_type": "code",
   "execution_count": null,
   "id": "cd4e7055-2f63-4f86-8d6d-293efdfa4b33",
   "metadata": {},
   "outputs": [],
   "source": [
    "fig, ax = plt.subplots(4, 2, figsize=(12, 12))\n",
    "ax = ax.flatten()\n",
    "for i, rdr in enumerate(rdrgrms):\n",
    "    ax[i].imshow(np.abs(rdr), cmap=\"grey\", aspect=0.07)\n",
    "    ax[i].set_title(f\"Facet size: {fss[i]:03d}\")\n",
    "ax[-1].axis(\"off\")\n",
    "plt.tight_layout()\n",
    "plt.savefig(\"VariableFsUnfocused.png\")\n",
    "plt.show()"
   ]
  },
  {
   "cell_type": "code",
   "execution_count": null,
   "id": "c93aa000-5d65-4896-8c50-f14bef40f8da",
   "metadata": {},
   "outputs": [],
   "source": [
    "rngbins = []\n",
    "# compute range bin offset\n",
    "for pathtime in pathtimes:\n",
    "    rngbin = (np.array(pathtime) - start) // dt\n",
    "    rngbin -= np.min(rngbin)\n",
    "    rngbins.append(rngbin)"
   ]
  },
  {
   "cell_type": "code",
   "execution_count": null,
   "id": "681ea113-a3a6-4d7c-a713-dd4fd36c6cb2",
   "metadata": {},
   "outputs": [],
   "source": [
    "def focus_pix(rdr, t, T, rngbins, k, dt=dt):\n",
    "\n",
    "    # sol\n",
    "    c = 299792458\n",
    "    \n",
    "    # compute the range which is within the radargram\n",
    "    rng = np.arange(len(rngbins)) - (len(rngbins) // 2) + T\n",
    "    \n",
    "    # compute the value of the range bins in the image\n",
    "    rngbins = rngbins[rng >= 0] + t\n",
    "    \n",
    "    # crop to the region in the image\n",
    "    rng = rng[rng >= 0]\n",
    "    rngbins = rngbins[rng < rdr.shape[1]]\n",
    "    rng = rng[rng < rdr.shape[1]]\n",
    "    rng = rng[rngbins < rdr.shape[0]]\n",
    "    rngbins = rngbins[rngbins < rdr.shape[0]]\n",
    "\n",
    "    # rangebins to time for exponent calculation\n",
    "    rngtime = rngbins * dt * c\n",
    "    exp = np.conjugate(np.exp(2j * k * rngtime))\n",
    "\n",
    "    return np.sum(rdr[rngbins.astype(int), rng.astype(int)] * exp)\n",
    "\n",
    "def focus(rdr, rngbn):\n",
    "    \n",
    "    k = (2 * np.pi) / ss[0].lam\n",
    "    focused = np.zeros_like(rdr)\n",
    "    for t in range(rdr.shape[0]):\n",
    "        print(f\"Focusing... {t+1}/{rdr.shape[0]}\", end=\"    \\r\")\n",
    "        for T in range(rdr.shape[1]):\n",
    "            focused[t, T] = focus_pix(rdr, t, T, rngbn, k)\n",
    "\n",
    "    return focused"
   ]
  },
  {
   "cell_type": "code",
   "execution_count": null,
   "id": "ad6577f7-6ed2-4557-baa6-6484515c2fa3",
   "metadata": {},
   "outputs": [],
   "source": [
    "focused = [focus(rdr, rngbin) for rdr, rngbn in zip(rdrgrms, rngbins)]"
   ]
  },
  {
   "cell_type": "code",
   "execution_count": null,
   "id": "3d5dbf61-1e41-4e52-9cd7-022cf7b7e638",
   "metadata": {},
   "outputs": [],
   "source": [
    "fig, ax = plt.subplots(4, 2, figsize=(12, 12))\n",
    "ax = ax.flatten()\n",
    "for i, f in enumerate(focused):\n",
    "    ax[i].imshow(np.abs(f), cmap=\"grey\", aspect=0.07)\n",
    "    ax[i].set_title(f\"Facet size: {fss[i]:03d}\")\n",
    "ax[-1].axis(\"off\")\n",
    "plt.tight_layout()\n",
    "plt.savefig(\"VariableFsFocused.png\")\n",
    "plt.show()"
   ]
  },
  {
   "cell_type": "code",
   "execution_count": null,
   "id": "1e63f0eb-cc39-40d1-9cd9-a46774d15799",
   "metadata": {},
   "outputs": [],
   "source": []
  }
 ],
 "metadata": {
  "kernelspec": {
   "display_name": "Python 3 (ipykernel)",
   "language": "python",
   "name": "python3"
  },
  "language_info": {
   "codemirror_mode": {
    "name": "ipython",
    "version": 3
   },
   "file_extension": ".py",
   "mimetype": "text/x-python",
   "name": "python",
   "nbconvert_exporter": "python",
   "pygments_lexer": "ipython3",
   "version": "3.11.9"
  }
 },
 "nbformat": 4,
 "nbformat_minor": 5
}
