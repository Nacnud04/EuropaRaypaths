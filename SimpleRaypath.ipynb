{
 "cells": [
  {
   "cell_type": "markdown",
   "id": "e4df83c6-23d2-41c6-9e8a-a524793e710e",
   "metadata": {},
   "source": [
    "# Simple Raypath Model\n",
    "## 0. Imports"
   ]
  },
  {
   "cell_type": "code",
   "execution_count": null,
   "id": "8ee504c1-ab45-4ec8-9a95-e2242157fd8f",
   "metadata": {},
   "outputs": [],
   "source": [
    "from surface import *\n",
    "from source import *\n",
    "from model import *\n",
    "\n",
    "from time import time as Time"
   ]
  },
  {
   "cell_type": "markdown",
   "id": "b41b7cc5-5f97-40be-83bd-9ca90604c6b5",
   "metadata": {},
   "source": [
    "## 1. Define Surface"
   ]
  },
  {
   "cell_type": "code",
   "execution_count": null,
   "id": "5f6a0ef4-a1c0-4323-a53c-2e678ccfdc0e",
   "metadata": {},
   "outputs": [],
   "source": [
    "surf = Surface(origin=(0, 0), dims=(101, 101), fs=100)\n",
    "surf.gen_sin('x', 50, 1000, -10)"
   ]
  },
  {
   "cell_type": "markdown",
   "id": "1f69e2af-2ef7-45b8-a526-2d92b748f19f",
   "metadata": {},
   "source": [
    "## 2. Define Source"
   ]
  },
  {
   "cell_type": "code",
   "execution_count": null,
   "id": "a0afc9ff-cfe8-4711-8399-04cafac610bc",
   "metadata": {
    "tags": []
   },
   "outputs": [],
   "source": [
    "source = Source(1e-9, 0.5e-6, (1050, 5050, 25000))\n",
    "source.chirp(9e6, 1e6)\n",
    "source.plot()"
   ]
  },
  {
   "cell_type": "markdown",
   "id": "8c484c70-008e-483a-b7c9-0f91dd6dc8e3",
   "metadata": {},
   "source": [
    "## 3. Create Model"
   ]
  },
  {
   "cell_type": "code",
   "execution_count": null,
   "id": "de6cf585-801e-4592-9441-43c3b30e45ad",
   "metadata": {
    "tags": []
   },
   "outputs": [],
   "source": [
    "model = Model(surf, source)\n",
    "model.set_target((5050, 5050, -200))\n",
    "model.gen_raypaths()\n",
    "#model.show_beam_pattern()\n",
    "model.plot_s2f_angle()\n",
    "model.plot_s2f_rad()"
   ]
  },
  {
   "cell_type": "markdown",
   "id": "cc4931b4-33fb-454e-a3f6-d87c438b66fe",
   "metadata": {},
   "source": [
    "### 3.1 Attenuation with depth"
   ]
  },
  {
   "cell_type": "code",
   "execution_count": null,
   "id": "208d85f2-6b2d-4732-82a4-0823f1aa0a34",
   "metadata": {},
   "outputs": [],
   "source": [
    "model.attenuation_plot()"
   ]
  },
  {
   "cell_type": "markdown",
   "id": "7d88efee-18bb-4a27-8137-48fb52358426",
   "metadata": {},
   "source": [
    "### 3.2 Doppler shift and phase change of target"
   ]
  },
  {
   "cell_type": "code",
   "execution_count": null,
   "id": "9a5e5be5-10d0-4c1f-8252-cbf0b85e3d1a",
   "metadata": {},
   "outputs": [],
   "source": [
    "model.comp_dopplers(plot=True)"
   ]
  },
  {
   "cell_type": "markdown",
   "id": "106eddb1-fa75-4c66-bf1e-678e70af0655",
   "metadata": {},
   "source": [
    "## 4. Simulate"
   ]
  },
  {
   "cell_type": "code",
   "execution_count": null,
   "id": "532d47e2-2605-480a-b3b1-9665a63b930c",
   "metadata": {},
   "outputs": [],
   "source": [
    "st = Time()\n",
    "model.gen_timeseries()\n",
    "print(f\"Elapsed time: {Time()-st} seconds.\")"
   ]
  },
  {
   "cell_type": "code",
   "execution_count": null,
   "id": "09d09cb1-f6a2-4678-8ffc-11b845f996c7",
   "metadata": {},
   "outputs": [],
   "source": []
  }
 ],
 "metadata": {
  "kernelspec": {
   "display_name": "Python 3 (ipykernel)",
   "language": "python",
   "name": "python3"
  },
  "language_info": {
   "codemirror_mode": {
    "name": "ipython",
    "version": 3
   },
   "file_extension": ".py",
   "mimetype": "text/x-python",
   "name": "python",
   "nbconvert_exporter": "python",
   "pygments_lexer": "ipython3",
   "version": "3.11.9"
  }
 },
 "nbformat": 4,
 "nbformat_minor": 5
}
