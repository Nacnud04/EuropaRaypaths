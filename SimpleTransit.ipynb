{
 "cells": [
  {
   "cell_type": "markdown",
   "id": "6fc08ca4-43f0-4a4f-849c-80bfd1ef327e",
   "metadata": {},
   "source": [
    "# Transit Over Point Target\n",
    "## 0. Imports"
   ]
  },
  {
   "cell_type": "code",
   "execution_count": null,
   "id": "c67a349c-ef95-4fd5-a957-75f117343851",
   "metadata": {},
   "outputs": [],
   "source": [
    "from surface import *\n",
    "from source import *\n",
    "from model import *\n",
    "\n",
    "import numpy as np\n",
    "from time import time as Time"
   ]
  },
  {
   "cell_type": "markdown",
   "id": "106d9c23-07ff-4dbc-a82e-4e91ffc7fd56",
   "metadata": {},
   "source": [
    "## 1. Define surface"
   ]
  },
  {
   "cell_type": "code",
   "execution_count": null,
   "id": "7d8dd8ab-54dc-4302-bad8-6635536ad307",
   "metadata": {},
   "outputs": [],
   "source": [
    "# surface\n",
    "surf = Surface(origin=(0, 0), dims=(101, 101), fs=100)\n",
    "surf.gen_flat(-10)"
   ]
  },
  {
   "cell_type": "markdown",
   "id": "fd23b30f-0c52-43e4-87ef-a981f61274dd",
   "metadata": {},
   "source": [
    "## 2. Create sources along a transit"
   ]
  },
  {
   "cell_type": "code",
   "execution_count": null,
   "id": "b487f9c6-0f70-4143-898f-f0d136dd7b9f",
   "metadata": {},
   "outputs": [],
   "source": [
    "# source\n",
    "ss = []\n",
    "n = 200\n",
    "for x in np.linspace(0, 10000, n):\n",
    "    source = Source(1e-9, 0.5e-6, (x, 5050, 25000))\n",
    "    source.chirp(9e6, 1e6)\n",
    "    ss.append(source)"
   ]
  },
  {
   "cell_type": "markdown",
   "id": "dff8c8cb-684d-4bd8-b5e2-75fa59836969",
   "metadata": {},
   "source": [
    "## 3. Create models and simulate for each source location"
   ]
  },
  {
   "cell_type": "code",
   "execution_count": null,
   "id": "5d75c8ff-8565-4bbe-8fc0-3b371032411c",
   "metadata": {},
   "outputs": [],
   "source": [
    "ms = []\n",
    "st = Time()\n",
    "for i, s in enumerate(ss):\n",
    "    print(f\"Simulating: {i+1}/{len(ss)} ({round(100*((i+1)/len(ss)), 1)}%)\", end=\"     \\r\")\n",
    "    model = Model(surf, s)\n",
    "    model.set_target((5050, 5050, -200))    # set target location\n",
    "    model.gen_raypaths()    # generate raypaths\n",
    "    model.comp_dopplers()\n",
    "    model.gen_timeseries(show=False)    # simulate\n",
    "    ms.append(model)\n",
    "print(f\"\\n\\nTotal processing time: {round((Time() - st)/60)} minutes and {round((Time() - st) % 60,2)} seconds\")"
   ]
  },
  {
   "cell_type": "markdown",
   "id": "509e7215-a49d-44a2-bc02-2c7afcda072e",
   "metadata": {},
   "source": [
    "## 4. Combine into radargram"
   ]
  },
  {
   "cell_type": "code",
   "execution_count": null,
   "id": "9bee306a-9c76-4300-871c-77ef69877dd1",
   "metadata": {},
   "outputs": [],
   "source": [
    "st = 166.8e-6   # start\n",
    "en = 175e-6  # end\n",
    "N = int((en-st)/(1e-9))      # how many \"range bins?\"\n",
    "print(f\"{N} range bins\")\n",
    "\n",
    "# fast time dimension\n",
    "ft = np.linspace(st, en, N)\n",
    "\n",
    "# output radargram\n",
    "rdrgrm = np.zeros((N, n)).astype(np.complex128)\n",
    "\n",
    "# iterate through models and add to output radargram\n",
    "for i, m in enumerate(ms):\n",
    "    real = np.interp(ft, m.ts, np.real(m.data))\n",
    "    imag = np.interp(ft, m.ts, np.imag(m.data))\n",
    "    rdrgrm[:, i] = real + 1j * imag"
   ]
  },
  {
   "cell_type": "code",
   "execution_count": null,
   "id": "0efcdd51-cb2e-45a1-b859-1c9a21ccfd53",
   "metadata": {},
   "outputs": [],
   "source": [
    "np.save(\"rdrgrm.npy\", rdrgrm)"
   ]
  },
  {
   "cell_type": "markdown",
   "id": "87ec2545-4577-4dcd-b1b1-5d5ba40bcacc",
   "metadata": {},
   "source": [
    "## 5. Show output"
   ]
  },
  {
   "cell_type": "code",
   "execution_count": null,
   "id": "4acff72c-bb4b-4527-b66b-99411a490db4",
   "metadata": {},
   "outputs": [],
   "source": [
    "import plotly.express as px\n",
    "\n",
    "fig = px.imshow(np.real(rdrgrm), aspect=\"auto\", color_continuous_scale='gray', width=800, height=600)\n",
    "ticktext = ['{0:5.1f}'.format(val) for val in np.arange(st*1e6, en*1e6, 1)]\n",
    "tickvals = np.linspace(0, N, len(ticktext))\n",
    "\n",
    "fig.update_yaxes(\n",
    "    tickvals=tickvals,\n",
    "    ticktext=ticktext,\n",
    "    title_text=\"Time (µs)\"\n",
    ")\n",
    "fig.show()"
   ]
  },
  {
   "cell_type": "code",
   "execution_count": null,
   "id": "65dd2470-2eee-4626-9ee4-e102c8c0a29d",
   "metadata": {},
   "outputs": [],
   "source": []
  }
 ],
 "metadata": {
  "kernelspec": {
   "display_name": "Python 3 (ipykernel)",
   "language": "python",
   "name": "python3"
  },
  "language_info": {
   "codemirror_mode": {
    "name": "ipython",
    "version": 3
   },
   "file_extension": ".py",
   "mimetype": "text/x-python",
   "name": "python",
   "nbconvert_exporter": "python",
   "pygments_lexer": "ipython3",
   "version": "3.11.9"
  }
 },
 "nbformat": 4,
 "nbformat_minor": 5
}
