{
 "cells": [
  {
   "cell_type": "markdown",
   "id": "8c4c0558-c0fd-4e82-a9c6-2fbbbc3ba49b",
   "metadata": {},
   "source": [
    "# Plotting some point target responses"
   ]
  },
  {
   "cell_type": "code",
   "execution_count": null,
   "id": "42cd200b-0ffb-4c73-82b4-2dba56941002",
   "metadata": {},
   "outputs": [],
   "source": [
    "import sys\n",
    "\n",
    "import numpy as np\n",
    "import plotly.graph_objects as go\n",
    "\n",
    "sys.path.append(\"../../src\")\n",
    "from util import target_function_sinusoidal"
   ]
  },
  {
   "cell_type": "code",
   "execution_count": null,
   "id": "1ce870dc-8537-4274-8a9e-69807ec94f82",
   "metadata": {},
   "outputs": [],
   "source": [
    "theta = np.linspace(0, 2 * np.pi, 360)\n",
    "phi   = np.linspace(0,     np.pi, 180)\n",
    "thGrid, phGrid = np.meshgrid(theta, phi)"
   ]
  },
  {
   "cell_type": "code",
   "execution_count": null,
   "id": "5c797edd-0810-45f9-836f-2d25361346ee",
   "metadata": {},
   "outputs": [],
   "source": [
    "pt_response = target_function_sinusoidal(phGrid, thGrid)"
   ]
  },
  {
   "cell_type": "code",
   "execution_count": null,
   "id": "53d97e1d-e32f-4815-98d9-f5217c6038c0",
   "metadata": {},
   "outputs": [],
   "source": [
    "# convert to xy coordinates\n",
    "x = pt_response * np.cos(thGrid) * np.sin(phGrid)  # x = r*cos(s)*sin(t)\n",
    "y = pt_response * np.sin(thGrid) * np.sin(phGrid)  # y = r*sin(s)*sin(t)\n",
    "z = pt_response * np.cos(phGrid)                   # z = r*cos(t)\n",
    "\n",
    "range_min = min(np.min(x), np.min(y), np.min(z))\n",
    "range_max = max(np.max(x), np.max(y), np.max(z))"
   ]
  },
  {
   "cell_type": "code",
   "execution_count": null,
   "id": "0004f3a4-0676-484a-86cc-a6c705864142",
   "metadata": {},
   "outputs": [],
   "source": [
    "fig = go.Figure(data=[go.Surface(\n",
    "    x=x, y=y, z=z,\n",
    "    colorscale='Viridis',\n",
    "    cmin=np.min(pt_response),\n",
    "    cmax=np.max(pt_response),\n",
    "    surfacecolor=pt_response,\n",
    "    showscale=True\n",
    ")])\n",
    "\n",
    "fig.update_layout(\n",
    "    title='Point Target Response',\n",
    "    scene=dict(\n",
    "        xaxis=dict(range=[range_min, range_max]),\n",
    "        yaxis=dict(range=[range_min, range_max]),\n",
    "        zaxis=dict(range=[range_min, range_max]),\n",
    "        aspectmode='data'\n",
    "    )\n",
    ")\n",
    "\n",
    "fig.show()"
   ]
  },
  {
   "cell_type": "code",
   "execution_count": null,
   "id": "72247248-aedb-4616-ac42-056da60b91b9",
   "metadata": {},
   "outputs": [],
   "source": []
  }
 ],
 "metadata": {
  "kernelspec": {
   "display_name": "Europa",
   "language": "python",
   "name": "europa"
  },
  "language_info": {
   "codemirror_mode": {
    "name": "ipython",
    "version": 3
   },
   "file_extension": ".py",
   "mimetype": "text/x-python",
   "name": "python",
   "nbconvert_exporter": "python",
   "pygments_lexer": "ipython3",
   "version": "3.12.9"
  }
 },
 "nbformat": 4,
 "nbformat_minor": 5
}
