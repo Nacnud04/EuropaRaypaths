{
 "cells": [
  {
   "cell_type": "markdown",
   "id": "200de14a-24a9-42e4-9354-1236b096d8a7",
   "metadata": {},
   "source": [
    "# Raypath-based Radar Sounder Sim"
   ]
  },
  {
   "cell_type": "code",
   "execution_count": 1,
   "id": "7c7f9285-39d8-4905-a622-e7c0de3d4ceb",
   "metadata": {},
   "outputs": [
    {
     "name": "stdout",
     "output_type": "stream",
     "text": [
      "GPU's detected. Enabling CUDA compute\n"
     ]
    }
   ],
   "source": [
    "# imports\n",
    "import sys\n",
    "sys.path.append(\"../src\")\n",
    "\n",
    "import numpy as np\n",
    "import matplotlib.pyplot as plt\n",
    "\n",
    "from surface import *\n",
    "from source import *\n",
    "from simulator import *\n",
    "from focus import *"
   ]
  },
  {
   "cell_type": "markdown",
   "id": "94680254-3b04-4b3f-8fc1-3d7e7d5ff13f",
   "metadata": {},
   "source": [
    "## 1: Point Target in Subsurface\n",
    "\n",
    "| Transit | Traces | Altitude | Target Depth | Polarization | f₀ | Power |\n",
    "|---------|--------|----------|---------------|--------------|----------|-----------|\n",
    "| 30 km   | 300    | 25 km    | 1 km          | h            | 9 MHz    | 11.75 W   |\n",
    "\n",
    "| Subsurface Gain | Surface Gain | Rx Opening | Rx Window | Rx Sampling | ε₁ | ε₂  | σ₁ | σ₂       |\n",
    "|------------------|---------------|------------|------------|--------------|----|-----|-----|-----------|\n",
    "| 80 dB            | 64 dB         | 20 km      | 30 km      | 48 MHz       | 1  | 3.15 | 0 S | 10⁻⁶ S   |\n"
   ]
  },
  {
   "cell_type": "code",
   "execution_count": 2,
   "id": "5e674fd9-e26d-4e77-b907-51766a23f6ec",
   "metadata": {},
   "outputs": [],
   "source": [
    "# create surface\n",
    "surf = Surface(origin=(4000, 4000), dims=(400, 400), fs=5, overlap=0)\n",
    "surf.gen_flat(0)"
   ]
  },
  {
   "cell_type": "code",
   "execution_count": 3,
   "id": "5a8836ff-92ce-4ad7-a83a-5a75a71efc52",
   "metadata": {},
   "outputs": [],
   "source": [
    "# generate linspace of sources\n",
    "ss = source_linspace('x', -10e3, 20e3, 5050, 25e3, 500, 9e6, 1e6)\n",
    "\n",
    "# target location\n",
    "t = (5000, 5050, -1000)   # target location (x, y, z)"
   ]
  },
  {
   "cell_type": "code",
   "execution_count": null,
   "id": "56dac987-2a18-45fd-8f79-e3686bff24bb",
   "metadata": {},
   "outputs": [
    {
     "name": "stdout",
     "output_type": "stream",
     "text": [
      "Simulating: 39/500 (7.8%) | ETA: 01:01     \r"
     ]
    }
   ],
   "source": [
    "rdrgrm, time = run_sim_ms(surf, ss, t, reflect=True, polarization='v', sltrng=False, refl_center=True, show=True)"
   ]
  },
  {
   "cell_type": "markdown",
   "id": "14215322-c766-480f-a47c-7879a4e8f333",
   "metadata": {},
   "source": [
    "## 2: Point target response function\n",
    "*Function is a gaussian where $\\sigma=3\\degree$*"
   ]
  },
  {
   "cell_type": "code",
   "execution_count": null,
   "id": "e8054598-fcac-45a7-b682-21744edcdc0e",
   "metadata": {},
   "outputs": [],
   "source": [
    "rdrgrm, time = run_sim_ms(surf, ss, t, reflect=True, polarization='v', sltrng=False, pt_response=\"gaussian\", refl_center=True, show=True)"
   ]
  },
  {
   "cell_type": "markdown",
   "id": "1343b1a3-a7ed-4a34-a570-d1b5cb620c34",
   "metadata": {},
   "source": [
    "## Sinusoid Surface"
   ]
  },
  {
   "cell_type": "code",
   "execution_count": null,
   "id": "92f4fc92-71be-439d-8ee3-f3a50c88ec55",
   "metadata": {},
   "outputs": [],
   "source": [
    "# define sinusoidal surface\n",
    "surf = Surface(origin=(4000, 4000), dims=(400, 400), fs=5, overlap=0)\n",
    "\n",
    "amp = 10    # amplitude [m]\n",
    "per = 20    # periods   [m]\n",
    "z   = 0     # center z  [m]\n",
    "surf.gen_sin('x', amp, per, z)"
   ]
  },
  {
   "cell_type": "code",
   "execution_count": null,
   "id": "aebf5cf7-50e5-4b9e-9e22-a4e6aaad2946",
   "metadata": {},
   "outputs": [],
   "source": [
    "# plot surface\n",
    "plt.imshow(surf.zs, origin=\"lower\", extent=(4, 6, 4, 6))\n",
    "cb = plt.colorbar(label=\"Surface Height [m]\")\n",
    "cb.ax.tick_params(labelsize=8)\n",
    "plt.xlabel(\"x [km]\")\n",
    "plt.ylabel(\"y [km]\")\n",
    "plt.tick_params(labelsize=8)\n",
    "plt.title(\"Sinsoidal Surface Geometry\")\n",
    "plt.show()"
   ]
  },
  {
   "cell_type": "code",
   "execution_count": null,
   "id": "43035d6f-6424-44b1-b540-3f8335eb1d95",
   "metadata": {},
   "outputs": [],
   "source": [
    "rdrgrm, time = run_sim_ms(surf, ss, t, reflect=False, polarization='v', sltrng=False, show=True)"
   ]
  },
  {
   "cell_type": "code",
   "execution_count": null,
   "id": "ecfb86cb-4b42-46a6-8c57-8f28abec018d",
   "metadata": {},
   "outputs": [],
   "source": []
  }
 ],
 "metadata": {
  "kernelspec": {
   "display_name": "Europa",
   "language": "python",
   "name": "europa"
  },
  "language_info": {
   "codemirror_mode": {
    "name": "ipython",
    "version": 3
   },
   "file_extension": ".py",
   "mimetype": "text/x-python",
   "name": "python",
   "nbconvert_exporter": "python",
   "pygments_lexer": "ipython3",
   "version": "3.12.9"
  }
 },
 "nbformat": 4,
 "nbformat_minor": 5
}
