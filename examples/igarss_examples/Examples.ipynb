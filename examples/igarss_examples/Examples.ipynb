{
 "cells": [
  {
   "cell_type": "markdown",
   "id": "200de14a-24a9-42e4-9354-1236b096d8a7",
   "metadata": {},
   "source": [
    "# Europa Raypath Simulator"
   ]
  },
  {
   "cell_type": "code",
   "execution_count": 1,
   "id": "7c7f9285-39d8-4905-a622-e7c0de3d4ceb",
   "metadata": {},
   "outputs": [
    {
     "name": "stdout",
     "output_type": "stream",
     "text": [
      "GPU's detected. Enabling CUDA compute\n"
     ]
    }
   ],
   "source": [
    "# imports\n",
    "import sys, os\n",
    "sys.path.append(\"../../src\")\n",
    "\n",
    "import numpy as np\n",
    "import matplotlib\n",
    "import matplotlib.pyplot as plt\n",
    "\n",
    "os.environ[\"PATH\"] += os.pathsep + '/usr/share/texlive/texmf-dist/tex/xelatex'\n",
    "\n",
    "matplotlib.use(\"pgf\")\n",
    "matplotlib.rcParams.update({\n",
    "    \"pgf.texsystem\": \"pdflatex\",\n",
    "    'font.family': 'serif',\n",
    "    'text.usetex': True,\n",
    "    'pgf.rcfonts': False,\n",
    "})\n",
    "\n",
    "from surface import *\n",
    "from source import *\n",
    "from simulator import *\n",
    "from focus import *"
   ]
  },
  {
   "cell_type": "markdown",
   "id": "94680254-3b04-4b3f-8fc1-3d7e7d5ff13f",
   "metadata": {},
   "source": [
    "## Specular Point Target\n",
    "\n",
    "*Using a $3\\degree$ wide boxcar*\n",
    "\n",
    "| Transit | Traces | Altitude | Target Depth | Polarization | f₀ | Power |\n",
    "|---------|--------|----------|---------------|--------------|----------|-----------|\n",
    "| 30 km   | 300    | 25 km    | 1 km          | v            | 9 MHz    | 11.75 W   |\n",
    "\n",
    "| Subsurface Gain | Surface Gain | Rx Opening | Rx Window | Rx Sampling | ε₁ | ε₂  | σ₁ | σ₂       |\n",
    "|------------------|---------------|------------|------------|--------------|----|-----|-----|-----------|\n",
    "| 80 dB            | 76 dB         | 22.5 km      | 10 km      | 48 MHz       | 1  | 3.15 | 0 S | 10⁻⁶ S   |\n"
   ]
  },
  {
   "cell_type": "code",
   "execution_count": 2,
   "id": "5e674fd9-e26d-4e77-b907-51766a23f6ec",
   "metadata": {},
   "outputs": [],
   "source": [
    "# create surface\n",
    "surf = Surface(origin=(4000, 4000), dims=(400, 400), fs=5, overlap=0)\n",
    "surf.gen_flat(0)"
   ]
  },
  {
   "cell_type": "code",
   "execution_count": 3,
   "id": "5a8836ff-92ce-4ad7-a83a-5a75a71efc52",
   "metadata": {},
   "outputs": [],
   "source": [
    "# generate linspace of sources\n",
    "ss = source_linspace('x', -10e3, 20e3, 5050, 25e3, 500, 9e6, 1e6)\n",
    "\n",
    "# target location\n",
    "t = (5000, 5050, -1000)   # target location (x, y, z)\n",
    "\n",
    "par = {\n",
    "    'surf_gain':77,\n",
    "    'rx_window_offset':22.5e3,\n",
    "    'rx_window_m':10e3,\n",
    "    'aspect':0.5\n",
    "}"
   ]
  },
  {
   "cell_type": "code",
   "execution_count": 4,
   "id": "e8054598-fcac-45a7-b682-21744edcdc0e",
   "metadata": {},
   "outputs": [
    {
     "name": "stdout",
     "output_type": "stream",
     "text": [
      "Simulating: 500/500 (100.0%) | ETA: 00:00     \r"
     ]
    }
   ],
   "source": [
    "par['surf_gain'] = 76\n",
    "rdrgrm, time = run_sim_ms(surf, ss, t, reflect=True, polarization='v', sltrng=False, pt_response=\"gaussian\", refl_center=True, show=False, par=par, nsmpl=1601)"
   ]
  },
  {
   "cell_type": "markdown",
   "id": "2d947d2b-2a90-4e46-a36f-32fa37c2a517",
   "metadata": {},
   "source": [
    "## Focus"
   ]
  },
  {
   "cell_type": "code",
   "execution_count": 5,
   "id": "582721e8-b564-4775-83bb-7465d1451c37",
   "metadata": {},
   "outputs": [],
   "source": [
    "sx = [s.coord[0] for s in ss]\n",
    "sz = ss[0].coord[2]\n",
    "c1 = 299792458\n",
    "c2 = c1 / np.sqrt(3.15)\n",
    "\n",
    "sampl = 48e6   # sampling rate [MHz]\n",
    "wavlen = 33.3  # wavelength    [m]\n",
    "\n",
    "rb = int((par['rx_window_m'] / c1) / (1 / sampl))\n",
    "dm = c1 / (sampl)"
   ]
  },
  {
   "cell_type": "code",
   "execution_count": 6,
   "id": "554ed89a-3b39-4801-96fc-b01c359f2400",
   "metadata": {},
   "outputs": [],
   "source": [
    "sltrng   = est_slant_range(sx, sz, t[0], t[2], c1, c2)\n",
    "sltrng_t = 2 * 10**6 * sltrng / c1\n",
    "slt_rb   = ((sltrng - par['rx_window_offset']) // dm).astype(int)"
   ]
  },
  {
   "cell_type": "code",
   "execution_count": 7,
   "id": "f702920f-baf4-481f-adc9-6abbb65487e8",
   "metadata": {},
   "outputs": [],
   "source": [
    "k = (2 * np.pi) / wavlen\n",
    "match_filter = np.exp(-2j * k * sltrng)"
   ]
  },
  {
   "cell_type": "code",
   "execution_count": 8,
   "id": "6eebeb20-09b7-4b70-a966-c7dade3d8d3f",
   "metadata": {},
   "outputs": [],
   "source": [
    "focused = focus_jit(rdrgrm, slt_rb, match_filter, rb)"
   ]
  },
  {
   "cell_type": "markdown",
   "id": "765c6da1-c95f-4c12-b008-7e8f00ef6a2b",
   "metadata": {},
   "source": [
    "## Generate Figure"
   ]
  },
  {
   "cell_type": "code",
   "execution_count": 11,
   "id": "d4daac6a-16f8-4eac-8761-fadf9cab0904",
   "metadata": {},
   "outputs": [],
   "source": [
    "extent = (10, 90, 2*((par['rx_window_offset'] + par['rx_window_m'])/c1)*10**6, 2*(par['rx_window_offset']/c1)*10**6)\n",
    "fig, ax = plt.subplots(2, 1, figsize=(4, 4), constrained_layout=True, dpi=300, sharex=True)\n",
    "\n",
    "im0 = ax[0].imshow(np.abs(rdrgrm)*1e6, cmap=\"gray\", aspect=par['aspect']*1.5, extent=extent)\n",
    "im1 = ax[1].imshow(np.abs(focused)*1e6, cmap=\"gray\", aspect=par['aspect']*1.5, extent=extent)\n",
    "\n",
    "labels = [\"(a)\", \"(b)\"]\n",
    "for a, label in zip(ax, labels):\n",
    "    a.set_ylabel(\"Range [µs]\", fontsize=11)\n",
    "    a.tick_params(axis=\"both\", which=\"major\", labelsize=9, direction=\"out\")\n",
    "    a.tick_params(axis=\"both\", which=\"minor\", direction=\"out\")\n",
    "    a.text(0.02, 0.95, label, transform=a.transAxes, fontsize=11,\n",
    "           fontweight=\"bold\", va=\"top\", ha=\"left\", color=\"black\",\n",
    "           bbox=dict(facecolor=\"white\", alpha=0.6, edgecolor=\"none\", pad=2))\n",
    "\n",
    "ax[1].set_xlabel(\"Azimuth [km]\", fontsize=11)\n",
    "\n",
    "cbar = fig.colorbar(im1, ax=ax, orientation=\"vertical\", fraction=0.05, pad=0.04)\n",
    "cbar.set_label(\"Power [µW]\", fontsize=11)\n",
    "cbar.ax.tick_params(labelsize=9)\n",
    "\n",
    "plt.savefig(\"focused.pgf\", dpi=300, bbox_inches=\"tight\")\n",
    "plt.close()\n"
   ]
  },
  {
   "cell_type": "code",
   "execution_count": null,
   "id": "1344c1b1-52ed-4012-bcbd-d20e4a79b290",
   "metadata": {},
   "outputs": [],
   "source": []
  }
 ],
 "metadata": {
  "kernelspec": {
   "display_name": "Europa",
   "language": "python",
   "name": "europa"
  },
  "language_info": {
   "codemirror_mode": {
    "name": "ipython",
    "version": 3
   },
   "file_extension": ".py",
   "mimetype": "text/x-python",
   "name": "python",
   "nbconvert_exporter": "python",
   "pygments_lexer": "ipython3",
   "version": "3.12.9"
  }
 },
 "nbformat": 4,
 "nbformat_minor": 5
}
