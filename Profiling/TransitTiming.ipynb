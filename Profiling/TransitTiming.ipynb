{
 "cells": [
  {
   "cell_type": "markdown",
   "id": "6fc08ca4-43f0-4a4f-849c-80bfd1ef327e",
   "metadata": {},
   "source": [
    "# What part of the sim takes the most time?\n",
    "*And how do we optimize?*\n",
    "## 0. Imports"
   ]
  },
  {
   "cell_type": "code",
   "execution_count": 1,
   "id": "c67a349c-ef95-4fd5-a957-75f117343851",
   "metadata": {},
   "outputs": [],
   "source": [
    "import sys\n",
    "sys.path.append(\"../\")\n",
    "\n",
    "from surface import *\n",
    "from source import *\n",
    "from model import *\n",
    "\n",
    "import numpy as np\n",
    "from time import process_time as Time"
   ]
  },
  {
   "cell_type": "markdown",
   "id": "106d9c23-07ff-4dbc-a82e-4e91ffc7fd56",
   "metadata": {},
   "source": [
    "## 1. Define surface"
   ]
  },
  {
   "cell_type": "code",
   "execution_count": 2,
   "id": "7d8dd8ab-54dc-4302-bad8-6635536ad307",
   "metadata": {},
   "outputs": [],
   "source": [
    "# surface\n",
    "surf = Surface(origin=(0, 0), dims=(101, 101), fs=100)\n",
    "surf.gen_flat(-10)"
   ]
  },
  {
   "cell_type": "markdown",
   "id": "fd23b30f-0c52-43e4-87ef-a981f61274dd",
   "metadata": {},
   "source": [
    "## 2. Create sources along a transit"
   ]
  },
  {
   "cell_type": "code",
   "execution_count": 3,
   "id": "b487f9c6-0f70-4143-898f-f0d136dd7b9f",
   "metadata": {},
   "outputs": [],
   "source": [
    "# source\n",
    "ss = []\n",
    "n = 20\n",
    "f0 = 9e6\n",
    "dt = 1 / (8 * f0)\n",
    "for x in np.linspace(0, 10000, n):\n",
    "    source = Source(dt, 0.5e-6, (x, 5050, 25000))\n",
    "    source.chirp(f0, 1e6)\n",
    "    ss.append(source)"
   ]
  },
  {
   "cell_type": "markdown",
   "id": "dff8c8cb-684d-4bd8-b5e2-75fa59836969",
   "metadata": {},
   "source": [
    "## 3. Create models and simulate for each source location"
   ]
  },
  {
   "cell_type": "code",
   "execution_count": 4,
   "id": "5d75c8ff-8565-4bbe-8fc0-3b371032411c",
   "metadata": {},
   "outputs": [
    {
     "name": "stdout",
     "output_type": "stream",
     "text": [
      "Simulating: 20/20 (100.0%)     \n",
      "\n",
      "Total processing time: 1 minutes and 30.2 seconds\n"
     ]
    }
   ],
   "source": [
    "ms = []\n",
    "st = Time()\n",
    "setups, raypaths, dopplers, tss = [], [], [], []\n",
    "for i, s in enumerate(ss):\n",
    "    print(f\"Simulating: {i+1}/{len(ss)} ({round(100*((i+1)/len(ss)), 1)}%)\", end=\"     \\r\")\n",
    "    nt = Time()\n",
    "    model = Model(surf, s)\n",
    "    model.set_target((5050, 5050, -200))    # set target location\n",
    "    setups.append(Time() - nt)\n",
    "    #model.gen_raypaths_new()\n",
    "    nt = Time()\n",
    "    model.gen_raypaths()    # generate raypaths\n",
    "    raypaths.append(Time() - nt)\n",
    "    nt = Time()\n",
    "    model.comp_dopplers()\n",
    "    dopplers.append(Time() - nt)\n",
    "    nt = Time()\n",
    "    model.gen_timeseries(show=False)    # simulate\n",
    "    tss.append(Time() - nt)\n",
    "    ms.append(model)\n",
    "print(f\"\\n\\nTotal processing time: {round((Time() - st)/60)} minutes and {round((Time() - st) % 60,2)} seconds\")"
   ]
  },
  {
   "cell_type": "markdown",
   "id": "a5dd1d7a-f5cf-4612-a2c3-0317488c8788",
   "metadata": {},
   "source": [
    "## 4. Plot Timing"
   ]
  },
  {
   "cell_type": "code",
   "execution_count": 5,
   "id": "3a9d61a0-db69-4d8b-a931-71ba29fcf7a2",
   "metadata": {},
   "outputs": [],
   "source": [
    "import matplotlib.pyplot as plt"
   ]
  },
  {
   "cell_type": "code",
   "execution_count": 6,
   "id": "1ce3637e-5c58-48b5-83c0-2593ce749d90",
   "metadata": {},
   "outputs": [],
   "source": [
    "# load pre optimized results\n",
    "dat = np.load(\"pre-optimized.npy\")"
   ]
  },
  {
   "cell_type": "code",
   "execution_count": 7,
   "id": "d4f3cf35-12ad-4c9d-9eba-e715b4b82797",
   "metadata": {},
   "outputs": [],
   "source": [
    "labels = [\"Setup\", \"Raypaths\", \"Dopplers\", \"Time Series\"]"
   ]
  },
  {
   "cell_type": "code",
   "execution_count": 8,
   "id": "08a05f53-274c-444e-a64f-dd0a75d1be8a",
   "metadata": {},
   "outputs": [
    {
     "data": {
      "image/png": "[encoded data removed]",
      "text/plain": [
       "<Figure size 640x480 with 1 Axes>"
      ]
     },
     "metadata": {},
     "output_type": "display_data"
    }
   ],
   "source": [
    "means = {\n",
    "    'Original': np.mean(dat, axis=1),\n",
    "    'Optimized': [np.mean(setups), np.mean(raypaths), np.mean(dopplers), np.mean(tss)],\n",
    "}\n",
    "\n",
    "x = np.arange(len(labels))  # the label locations\n",
    "width = 0.33  # the width of the bars\n",
    "multiplier = 0.5\n",
    "\n",
    "fig, ax = plt.subplots(layout='constrained')\n",
    "\n",
    "for attribute, measurement in means.items():\n",
    "    offset = width * multiplier\n",
    "    rects = ax.bar(x + offset, measurement, width, label=attribute)\n",
    "    ax.bar_label(rects, np.round(measurement, 3), padding=3)\n",
    "    multiplier += 1\n",
    "\n",
    "# Add some text for labels, title and custom x-axis tick labels, etc.\n",
    "ax.set_ylabel('Processing time (s)')\n",
    "ax.set_title('Sim optimization')\n",
    "ax.set_xticks(x + width, labels)\n",
    "ax.legend(loc='upper left', ncols=3)\n",
    "\n",
    "plt.show()"
   ]
  },
  {
   "cell_type": "code",
   "execution_count": null,
   "id": "bd904fa0-57ea-4652-a089-8afb9b054f4a",
   "metadata": {},
   "outputs": [],
   "source": []
  }
 ],
 "metadata": {
  "kernelspec": {
   "display_name": "Python 3 (ipykernel)",
   "language": "python",
   "name": "python3"
  },
  "language_info": {
   "codemirror_mode": {
    "name": "ipython",
    "version": 3
   },
   "file_extension": ".py",
   "mimetype": "text/x-python",
   "name": "python",
   "nbconvert_exporter": "python",
   "pygments_lexer": "ipython3",
   "version": "3.11.9"
  }
 },
 "nbformat": 4,
 "nbformat_minor": 5
}
