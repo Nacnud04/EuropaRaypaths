{
 "cells": [
  {
   "cell_type": "markdown",
   "id": "c64fb066-ee33-4712-a54a-a5b35fff577d",
   "metadata": {
    "tags": []
   },
   "source": [
    "# Focus Radargram\n",
    "## 0. Imports"
   ]
  },
  {
   "cell_type": "code",
   "execution_count": null,
   "id": "2947d465-f298-4ef2-9e3f-7ce37b9214c3",
   "metadata": {},
   "outputs": [],
   "source": [
    "from surface import *\n",
    "from source import *\n",
    "from model import *\n",
    "\n",
    "import numpy as np\n",
    "import pandas as pd\n",
    "import matplotlib.pyplot as plt\n",
    "import plotly.express as px\n",
    "\n",
    "from math import floor\n",
    "from math import ceil\n",
    "\n",
    "import plotly.offline as pyo\n",
    "pyo.init_notebook_mode(connected=True)"
   ]
  },
  {
   "cell_type": "markdown",
   "id": "e19c6054-83d6-4a4a-a458-14f3a1e48699",
   "metadata": {},
   "source": [
    "## 1. Load radargram"
   ]
  },
  {
   "cell_type": "code",
   "execution_count": null,
   "id": "4a4c7a10-0481-48d9-a898-272b7751666d",
   "metadata": {},
   "outputs": [],
   "source": [
    "rdrgrm = np.load(\"rdrgrm.npy\")"
   ]
  },
  {
   "cell_type": "code",
   "execution_count": null,
   "id": "d6cbc016-d0ff-458e-9218-bdf1d08a23c9",
   "metadata": {},
   "outputs": [],
   "source": [
    "# radargram params\n",
    "st_t = 166.8e-6   # start\n",
    "en_t = 175e-6  # end\n",
    "N = rdrgrm.shape[0]      # how many \"range bins?\"\n",
    "n = rdrgrm.shape[1]      # how many traces\n",
    "t_bin = (en_t-st_t) / N"
   ]
  },
  {
   "cell_type": "code",
   "execution_count": null,
   "id": "103efaf2-b4da-4de6-968a-13b608228b4c",
   "metadata": {
    "editable": true,
    "slideshow": {
     "slide_type": ""
    },
    "tags": []
   },
   "outputs": [],
   "source": [
    "fig = px.imshow(np.real(rdrgrm), aspect=\"auto\", color_continuous_scale='gray', width=800, height=600)\n",
    "ticktext = ['{0:5.1f}'.format(val) for val in np.arange(st_t*1e6, en_t*1e6, 1)]\n",
    "tickvals = np.linspace(0, N, len(ticktext))\n",
    "\n",
    "fig.update_yaxes(\n",
    "    tickvals=tickvals,\n",
    "    ticktext=ticktext,\n",
    "    title_text=\"Time (µs)\"\n",
    ")\n",
    "fig.show()"
   ]
  },
  {
   "cell_type": "markdown",
   "id": "cc7aed96-5f0b-4a6e-84b4-c47c76fadee9",
   "metadata": {},
   "source": [
    "## 2. Range Compression"
   ]
  },
  {
   "cell_type": "code",
   "execution_count": null,
   "id": "ba43f8d3-5312-434e-b5b1-43250e454f35",
   "metadata": {},
   "outputs": [],
   "source": [
    "rc = np.zeros_like(rdrgrm)\n",
    "\n",
    "# generate sample source to cross correlate with\n",
    "source = Source(1e-9, 0.5e-6, (0, 0, 0))\n",
    "source.chirp(9e6, 1e6)\n",
    "signal = source.signal\n",
    "\n",
    "for i in range(n):\n",
    "    rc[:,i] = np.correlate(rdrgrm[:,i], signal, mode='same')"
   ]
  },
  {
   "cell_type": "code",
   "execution_count": null,
   "id": "5fb3285f-d757-4077-8858-9837a7fd34e2",
   "metadata": {},
   "outputs": [],
   "source": [
    "rc.shape"
   ]
  },
  {
   "cell_type": "code",
   "execution_count": null,
   "id": "db1cbb2b-ca4b-4a7a-af92-e1fd7397fc6f",
   "metadata": {},
   "outputs": [],
   "source": [
    "fig = px.imshow(np.real(rc), aspect=\"auto\", color_continuous_scale='gray', width=800, height=600)\n",
    "ticktext = ['{0:5.1f}'.format(val) for val in np.arange(st_t*1e6, en_t*1e6, 1)]\n",
    "tickvals = np.linspace(0, N, len(ticktext))\n",
    "fig.update_xaxes(title_text=\"Trace #\")\n",
    "fig.update_yaxes(tickvals=tickvals, ticktext=ticktext, title_text=\"Time (µs)\")\n",
    "fig.show()"
   ]
  },
  {
   "cell_type": "markdown",
   "id": "0032199a-7d1f-4f93-9611-56f8bc6be653",
   "metadata": {},
   "source": [
    "## 3. Azumith FFT & Delay Estimation"
   ]
  },
  {
   "cell_type": "code",
   "execution_count": null,
   "id": "c654ef05-5d6f-4faa-90d3-4c534aec5fe0",
   "metadata": {},
   "outputs": [],
   "source": [
    "az_fft = np.fft.fft(rc, axis=1)\n",
    "az_freq = np.fft.fftshift(np.fft.fftfreq(n, d=source.dt))\n",
    "#az_freq = np.fft.fftfreq(n, d=source.dt)\n",
    "az_fftshift = np.fft.fftshift(az_fft, axes=1)"
   ]
  },
  {
   "cell_type": "code",
   "execution_count": null,
   "id": "028c94a6-6396-4043-bdcd-6ee5d28ec56b",
   "metadata": {},
   "outputs": [],
   "source": [
    "# delay estimation\n",
    "az_max = np.argmax(az_fftshift, axis=0)"
   ]
  },
  {
   "cell_type": "code",
   "execution_count": null,
   "id": "cb7ef5fb-0453-4d00-949f-0219b7eafae2",
   "metadata": {},
   "outputs": [],
   "source": [
    "fig = px.imshow(np.real(az_fftshift), aspect=\"auto\", color_continuous_scale='gray', \n",
    "                zmin=-5000, zmax=5000, width=800, height=600)\n",
    "\n",
    "ticktext = ['{0:5.1f}'.format(val) for val in np.arange(st_t*1e6, en_t*1e6, 1)]\n",
    "tickvals = np.linspace(0, N, len(ticktext))\n",
    "axtext = ['{0:1f}'.format(v/(1e6)) for v in np.interp(np.linspace(0, n, 21), range(n), az_freq)]\n",
    "axvals = np.linspace(0, n, len(axtext))\n",
    "\n",
    "fig.add_trace(go.Scatter(\n",
    "    x=list(range(n)), \n",
    "    y=az_max,\n",
    "    mode='lines',\n",
    "    name='Delay Estimate',\n",
    "    line=dict(color='red')\n",
    "))\n",
    "\n",
    "fig.update_xaxes(tickvals=axvals,   ticktext=axtext,   title_text=\"Doppler Domain - Freq (MHz)\")\n",
    "fig.update_yaxes(tickvals=tickvals, ticktext=ticktext, title_text=\"Time (µs)\")\n",
    "fig.show()"
   ]
  },
  {
   "cell_type": "markdown",
   "id": "dafd069d-711c-46da-b4f3-3beb0295fe38",
   "metadata": {},
   "source": [
    "## 4. PF RCMC (Point Facet Range Cell Migration Correction)"
   ]
  },
  {
   "cell_type": "code",
   "execution_count": null,
   "id": "c1abaddd-f737-4db5-a622-8f3ce0714c5d",
   "metadata": {},
   "outputs": [],
   "source": [
    "timebuff = int(az_fftshift.shape[0]/4)\n",
    "rcmc = np.zeros((int(2*timebuff), n)).astype(np.complex128)\n",
    "for i, az in enumerate(az_max):\n",
    "    tmin, tmax = max(az-timebuff, 0), min(az_fftshift.shape[0], az+timebuff)\n",
    "    segment = az_fftshift[tmin:tmax, i]\n",
    "    if tmin == 0:\n",
    "        segment = np.concatenate((np.zeros(int(timebuff*2-len(segment))), segment))\n",
    "    elif tmax == az_fftshift.shape[0]:\n",
    "        segment = np.concatenate((segment,np.zeros(int(timebuff*2-len(segment)))))\n",
    "    rcmc[:len(segment), i] = segment"
   ]
  },
  {
   "cell_type": "code",
   "execution_count": null,
   "id": "54e28623-7faf-4985-87f3-2470fc5c42fa",
   "metadata": {},
   "outputs": [],
   "source": [
    "fig = px.imshow(np.real(rcmc), aspect=\"auto\", color_continuous_scale='gray', \n",
    "                zmin=-5000, zmax=5000, width=800, height=300)\n",
    "r1 = timebuff / az_fft.shape[0]\n",
    "ticktext = ['{0:5.1f}'.format(val) for val in np.arange(r1*(en_t-st_t)*-1e6, (1-r1)*(en_t-st_t)*1e6, 1)]\n",
    "tickvals = np.linspace(0, N, len(ticktext))\n",
    "axtext = ['{0:1f}'.format(v/(1e6)) for v in np.interp(np.linspace(0, n, 21), range(n), az_freq)]\n",
    "axvals = np.linspace(0, n, len(axtext))\n",
    "\n",
    "fig.add_trace(go.Scatter(\n",
    "    x=list(range(n)), \n",
    "    y=np.zeros(n)+timebuff,\n",
    "    mode='lines',\n",
    "    name='Delay Estimate',\n",
    "    line=dict(color='red')\n",
    "))\n",
    "\n",
    "fig.update_xaxes(tickvals=axvals,   ticktext=axtext,   title_text=\"Doppler Domain - Freq (MHz)\")\n",
    "fig.update_yaxes(tickvals=tickvals, ticktext=ticktext, title_text=\"Time (µs)\")\n",
    "fig.show()"
   ]
  },
  {
   "cell_type": "markdown",
   "id": "f59432af-cd1f-4683-8f8c-66f4e184f66a",
   "metadata": {},
   "source": [
    "## 5. Extract 1D Reference Function"
   ]
  },
  {
   "cell_type": "code",
   "execution_count": null,
   "id": "f3e0ecbd-90d6-482b-9a03-fb92434acf6c",
   "metadata": {},
   "outputs": [],
   "source": [
    "reffun = rcmc[timebuff, :]"
   ]
  },
  {
   "cell_type": "code",
   "execution_count": null,
   "id": "3ec55944-7f5b-4c5e-9581-351e8f0a1605",
   "metadata": {},
   "outputs": [],
   "source": [
    "df = pd.DataFrame({'Doppler Domain - Freq (Hz)':np.interp(np.linspace(0, n, n), range(n), az_freq), 'Power (dB)':10*np.log10(np.abs(reffun))})\n",
    "fig = px.line(df, x='Doppler Domain - Freq (Hz)', y='Power (dB)')\n",
    "fig.show()"
   ]
  },
  {
   "cell_type": "markdown",
   "id": "d136bc17-29ad-4e42-aaa6-d19a05f13360",
   "metadata": {},
   "source": [
    "## 6. Azumith Compression"
   ]
  },
  {
   "cell_type": "code",
   "execution_count": null,
   "id": "b8a9d5e2-6c34-4c1b-b70c-4cec2a3fa308",
   "metadata": {},
   "outputs": [],
   "source": [
    "azcmp = np.zeros_like(rcmc)\n",
    "\n",
    "\"\"\"\n",
    "# compute fft of reference function\n",
    "fft_source = fft(reffun)\n",
    "\n",
    "for i in range(rcmc.shape[0]):\n",
    "    fft_trace = fft(rcmc[i, :])\n",
    "    cc_freq = fft_source * np.conj(fft_trace)\n",
    "    cc_time = ifft(cc_freq)\n",
    "    cc_time = np.fft.fftshift(cc_time)\n",
    "    azcmp[i,:] = np.flip(np.real(cc_time))\n",
    "\"\"\"\n",
    "\n",
    "for i in range(rcmc.shape[0]):\n",
    "    azcmp[i,:] = np.convolve(reffun, rcmc[i,:], mode='same')\n",
    "\n",
    "azcmp /= np.max(azcmp)"
   ]
  },
  {
   "cell_type": "code",
   "execution_count": null,
   "id": "000ced9e-2db4-46c7-a454-90520c886163",
   "metadata": {},
   "outputs": [],
   "source": [
    "fig = px.imshow(np.real(azcmp), aspect=\"auto\", color_continuous_scale='gray', \n",
    "                zmin=-1, zmax=1, width=800, height=300)\n",
    "r1 = timebuff / az_fft.shape[0]\n",
    "ticktext = ['{0:5.1f}'.format(val) for val in np.arange(r1*(en_t-st_t)*-1e6, (1-r1)*(en_t-st_t)*1e6, 1)]\n",
    "tickvals = np.linspace(0, N, len(ticktext))\n",
    "axtext = ['{0:1f}'.format(v/(1e6)) for v in np.interp(np.linspace(0, n, 21), range(n), az_freq)]\n",
    "axvals = np.linspace(0, n, len(axtext))\n",
    "\n",
    "fig.update_xaxes(tickvals=axvals,   ticktext=axtext,   title_text=\"Doppler Domain - Freq (MHz)\")\n",
    "fig.update_yaxes(tickvals=tickvals, ticktext=ticktext, title_text=\"Time (µs)\")\n",
    "fig.show()"
   ]
  },
  {
   "cell_type": "markdown",
   "id": "8e811af6-6fc2-420c-924d-a602e02320cc",
   "metadata": {},
   "source": [
    "## 7. Azumith IFFT"
   ]
  },
  {
   "cell_type": "code",
   "execution_count": null,
   "id": "797ad033-a63e-46be-a880-c3a0d99d048e",
   "metadata": {},
   "outputs": [],
   "source": [
    "azcmp_shift = np.fft.ifftshift(azcmp, axes=1)\n",
    "focused = np.fft.ifft(azcmp_shift, axis=1)"
   ]
  },
  {
   "cell_type": "code",
   "execution_count": null,
   "id": "6a0ea801-1c80-4806-9748-180c6e477340",
   "metadata": {},
   "outputs": [],
   "source": [
    "fig = px.imshow(np.real(focused), aspect=\"auto\", color_continuous_scale='gray', width=800, height=600)\n",
    "ticktext = ['{0:5.1f}'.format(val) for val in np.arange(st_t*1e6, en_t*1e6, 1)]\n",
    "tickvals = np.linspace(0, N, len(ticktext))\n",
    "fig.update_xaxes(title_text=\"Trace #\")\n",
    "fig.update_yaxes(tickvals=tickvals, ticktext=ticktext, title_text=\"Time (µs)\")\n",
    "fig.show()"
   ]
  },
  {
   "cell_type": "code",
   "execution_count": null,
   "id": "56eeaf28-dbf8-4632-a584-8aebff9542bc",
   "metadata": {},
   "outputs": [],
   "source": []
  }
 ],
 "metadata": {
  "kernelspec": {
   "display_name": "Python 3 (ipykernel)",
   "language": "python",
   "name": "python3"
  },
  "language_info": {
   "codemirror_mode": {
    "name": "ipython",
    "version": 3
   },
   "file_extension": ".py",
   "mimetype": "text/x-python",
   "name": "python",
   "nbconvert_exporter": "python",
   "pygments_lexer": "ipython3",
   "version": "3.11.9"
  }
 },
 "nbformat": 4,
 "nbformat_minor": 5
}
